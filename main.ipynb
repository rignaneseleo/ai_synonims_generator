{
 "cells": [
  {
   "cell_type": "code",
   "execution_count": 28,
   "metadata": {},
   "outputs": [
    {
     "name": "stdout",
     "output_type": "stream",
     "text": [
      "Requirement already satisfied: fasttext in /opt/homebrew/lib/python3.10/site-packages (0.9.2)\n",
      "Requirement already satisfied: setuptools>=0.7.0 in /opt/homebrew/lib/python3.10/site-packages (from fasttext) (63.4.3)\n",
      "Requirement already satisfied: pybind11>=2.2 in /opt/homebrew/lib/python3.10/site-packages (from fasttext) (2.10.0)\n",
      "Requirement already satisfied: numpy in /opt/homebrew/lib/python3.10/site-packages (from fasttext) (1.23.3)\n",
      "Note: you may need to restart the kernel to use updated packages.\n"
     ]
    },
    {
     "name": "stderr",
     "output_type": "stream",
     "text": [
      "Warning : `load_model` does not return WordVectorModel or SupervisedModel any more, but a `FastText` object which is very similar.\n"
     ]
    },
    {
     "name": "stdout",
     "output_type": "stream",
     "text": [
      "Read 10 words from the input file\n",
      "Done, the output is saved in output.csv\n"
     ]
    }
   ],
   "source": [
    "from email import header\n",
    "import numpy as np\n",
    "import pandas as pd\n",
    "import fasttext.util\n",
    "from difflib import SequenceMatcher\n",
    "import fasttext\n",
    "%pip install fasttext\n",
    "\n",
    "# +++ CONSTANTS +++\n",
    "# TODO rename these variables if the model or words files are not in the root folder\n",
    "MODEL_PATH = \"model.bin\"\n",
    "WORDS_PATH = \"words.csv\"\n",
    "OUTPUT_PATH = \"output.csv\"\n",
    "ILLEGAL_CHARS = '0123456789$,.@-'\n",
    "\n",
    "# +++ FUNCTIONS +++\n",
    "def isWordLegit(word, tabu):\n",
    "    # ignore words that contain numbers or special characters\n",
    "    illegal = set(ILLEGAL_CHARS)\n",
    "    if not any((c in illegal) for c in tabu):\n",
    "        if similar(word, tabu) < 0.7:\n",
    "            return True\n",
    "    return False\n",
    "\n",
    "\n",
    "def similar(a, b):\n",
    "    return SequenceMatcher(None, a, b).ratio()\n",
    "\n",
    "\n",
    "# +++ MAIN +++\n",
    "# load the model\n",
    "ft = fasttext.load_model(MODEL_PATH)\n",
    "\n",
    "# load the words\n",
    "csvfile = pd.read_csv(WORDS_PATH, header=None, on_bad_lines='warn')\n",
    "print(\"Read {} words from the input file\".format(len(csvfile)))\n",
    "\n",
    "results = {}\n",
    "# iterate through the words\n",
    "for x in range(len(csvfile[0])):\n",
    "    original_word = csvfile[0][x]\n",
    "    if original_word is np.nan:\n",
    "        continue\n",
    "    original_word = original_word.lower()\n",
    "    results[original_word] = []\n",
    "\n",
    "    # use the model to get the 10 most similar words\n",
    "    suggestions = ft.get_nearest_neighbors(original_word)\n",
    "\n",
    "    # filter out the words that are not legit\n",
    "    for i in range(10):\n",
    "        suggestion = suggestions[i][1].lower()\n",
    "        if isWordLegit(original_word, suggestion):\n",
    "            results[original_word].append(suggestion)\n",
    "# print(results)\n",
    "\n",
    "#organize the results for the dataframe\n",
    "output_array = []\n",
    "for key in results:\n",
    "    output_array.append([key]+results[key])\n",
    "# sort the results (words with no suggestions are at the end)\n",
    "output_array = sorted(output_array, key=len, reverse=True)\n",
    "\n",
    "#create the output file\n",
    "output = pd.DataFrame(output_array)\n",
    "output.to_csv(OUTPUT_PATH, index=False, header=False)\n",
    "print(\"Done, the output is saved in {}\".format(OUTPUT_PATH))\n"
   ]
  }
 ],
 "metadata": {
  "kernelspec": {
   "display_name": "Python 3.10.6 64-bit",
   "language": "python",
   "name": "python3"
  },
  "language_info": {
   "codemirror_mode": {
    "name": "ipython",
    "version": 3
   },
   "file_extension": ".py",
   "mimetype": "text/x-python",
   "name": "python",
   "nbconvert_exporter": "python",
   "pygments_lexer": "ipython3",
   "version": "3.10.6"
  },
  "orig_nbformat": 4,
  "vscode": {
   "interpreter": {
    "hash": "b0fa6594d8f4cbf19f97940f81e996739fb7646882a419484c72d19e05852a7e"
   }
  }
 },
 "nbformat": 4,
 "nbformat_minor": 2
}
